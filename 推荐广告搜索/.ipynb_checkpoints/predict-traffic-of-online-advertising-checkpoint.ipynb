{
 "cells": [
  {
   "cell_type": "markdown",
   "metadata": {},
   "source": [
    "# 摘要"
   ]
  },
  {
   "cell_type": "markdown",
   "metadata": {},
   "source": [
    "随着online advertising的发展，预算控制和流量预估对于DSP越发重要。虽然DSP可以比较实时地获取信息，但是对于由于大规模特征的存在，使得在线实时预估仍比较困难。\n",
    "\n",
    "因此，我们提出一种从DSP视角进行在线流量预估的方法。模型所使用的features都是非常容易从历史数据中进行提取。预估方法采用带有闭式解（close-form）的regression model。我们的方法能够检测到流量的异常并且防止异常值影响预估。除此之外，该方法还可以随着趋势进行变化。实验结果显示模型总体error rate大约在0.9%，每个时间单位下约为10%"
   ]
  },
  {
   "cell_type": "markdown",
   "metadata": {},
   "source": [
    "# 简介"
   ]
  },
  {
   "cell_type": "markdown",
   "metadata": {},
   "source": [
    "实时竞价系统（Real-time Bidding System）包含了三个部分：\n",
    "- DSP：demand-side Platform\n",
    "- SSP：supply-side platform\n",
    "- ADX：ad exchange\n",
    "\n",
    "三者关系：SSP提供广告展示机会，DSP处理广告主的广告，并决定应提名哪个广告参加ADX举行的拍卖\n",
    "\n",
    "![](pictures/traffic-rtb.png)"
   ]
  },
  {
   "cell_type": "markdown",
   "metadata": {},
   "source": [
    "流程：\n",
    "- 用户打开手机或网页，发送请求；SSP将用户请求以及站点信息发送给ADX\n",
    "- ADX将请求转发给DSP\n",
    "- DSP来决策本次参与竞价策略的广告，并发送给ADX\n",
    "- ADX得到DSP发送的广告，ADX将竞胜广告发送SSP展示\n",
    "- 如果用户发生点击或者转换，SSP发送这些信息给DSP，DSP将对广告的本次展示进行记录"
   ]
  },
  {
   "cell_type": "markdown",
   "metadata": {},
   "source": [
    "DSP出价策略的三个要素：\n",
    "- value evaluation：ctr，cvr预估\n",
    "- price prediction：竞胜以后的广告价格\n",
    "- budget control：pacing"
   ]
  },
  {
   "cell_type": "markdown",
   "metadata": {},
   "source": [
    "由于实时预估对延时有要求，因此我们所使用的方法在特征提取上都很简单，并且我们的方法可以检测（detect）和处理（handle）异常值。"
   ]
  },
  {
   "cell_type": "markdown",
   "metadata": {},
   "source": [
    "# 方法"
   ]
  },
  {
   "cell_type": "markdown",
   "metadata": {},
   "source": [
    "## Problem Definition"
   ]
  },
  {
   "cell_type": "markdown",
   "metadata": {},
   "source": [
    "广告请求量与humans' behavior是高度相关的，在不同时间段的流量各不相同。\n",
    "\n",
    "我们将一天的时间分为T等份，例如，当$T=24$时，会有24个slots，每个slot是1小时，我们将要解决的就是：\n",
    "\n",
    "$$\\arg_\\theta \\min \\sum_{\\forall d,t} loss(h(X_{d,t};\\theta), Y_{d,t}), 1\\le d\\le D, 1\\le t\\le T$$"
   ]
  },
  {
   "cell_type": "markdown",
   "metadata": {},
   "source": [
    "其中，$D$代表训练数据中共包含多少天的数据，$Y_{d,t}$代表在$d$天的第$t$个slots下总共的请求数。"
   ]
  },
  {
   "cell_type": "markdown",
   "metadata": {},
   "source": [
    "## System Architecture"
   ]
  },
  {
   "cell_type": "markdown",
   "metadata": {},
   "source": [
    "使用最近$D$天的数据作为训练集，每天重新训练模型。\n",
    "- 每当一个新的time slot开始\n",
    "- 模型触发预估\n",
    "- 从历史数据加工特征并进行异常检测和数据平滑"
   ]
  },
  {
   "cell_type": "markdown",
   "metadata": {},
   "source": [
    "![](pictures/traffic-system.png)"
   ]
  },
  {
   "cell_type": "markdown",
   "metadata": {},
   "source": [
    "![](pictures/traffic-process.png)"
   ]
  },
  {
   "cell_type": "markdown",
   "metadata": {},
   "source": [
    "## Feature Extraction"
   ]
  },
  {
   "cell_type": "markdown",
   "metadata": {},
   "source": [
    "使用三类代表humans' behaviour的特征：\n",
    "- Last N Day Reqs：过去N天的同期流量；捕捉long-term信息，例如用户长期习惯\n",
    "- Last Slot Reqs：最近一个time slot的流量；捕捉short-term信息，例如临时的促销、运营活动等\n",
    "- Slot Number：time slot个数"
   ]
  },
  {
   "cell_type": "markdown",
   "metadata": {},
   "source": [
    "## Detecting and Smoothing Anomalies"
   ]
  },
  {
   "cell_type": "markdown",
   "metadata": {},
   "source": [
    "异常值会影响模型预估的效果，因此需要对异常值进行处理。\n",
    "\n",
    "异常值产生的原因：\n",
    "- purely unusual traffic\n",
    "- a part of a trend\n",
    "\n",
    "> 这里在处理异常值时候要注意，有些异常值就是因为trends break引起的，因此不能一棒子打死所有的异常值，有可能导致信息损失"
   ]
  },
  {
   "cell_type": "markdown",
   "metadata": {},
   "source": [
    "异常点检测算法：\n",
    "- 检测最近1个小时的流量\n",
    "- 对比过去k天同一小时的流量，计算与均值的差异，当差异过大时认为是异常点\n",
    "- 如果是异常点，使用几何平均值进行平滑\n",
    "> 几何平均数相比算数平均数来说更加robust"
   ]
  },
  {
   "cell_type": "markdown",
   "metadata": {},
   "source": [
    "![](pictures/traffic-outliers.png)"
   ]
  },
  {
   "cell_type": "markdown",
   "metadata": {},
   "source": [
    "具体算法流程：\n",
    "![](pictures/traffic-predict.png)"
   ]
  },
  {
   "cell_type": "markdown",
   "metadata": {},
   "source": [
    "## Evalution Metrics"
   ]
  },
  {
   "cell_type": "markdown",
   "metadata": {},
   "source": [
    "- RMSE\n",
    "- MAPE"
   ]
  },
  {
   "cell_type": "markdown",
   "metadata": {},
   "source": [
    "## 参数选择"
   ]
  },
  {
   "cell_type": "markdown",
   "metadata": {},
   "source": [
    "- 训练天数：3天以上\n",
    "- time slots长度：60min\n",
    "- 平滑天数：3天以上\n",
    "- tolerence选择：1.5"
   ]
  }
 ],
 "metadata": {
  "kernelspec": {
   "display_name": "Python 3",
   "language": "python",
   "name": "python3"
  },
  "language_info": {
   "codemirror_mode": {
    "name": "ipython",
    "version": 3
   },
   "file_extension": ".py",
   "mimetype": "text/x-python",
   "name": "python",
   "nbconvert_exporter": "python",
   "pygments_lexer": "ipython3",
   "version": "3.6.7"
  },
  "toc": {
   "base_numbering": "0",
   "nav_menu": {},
   "number_sections": true,
   "sideBar": true,
   "skip_h1_title": false,
   "title_cell": "Table of Contents",
   "title_sidebar": "Contents",
   "toc_cell": false,
   "toc_position": {},
   "toc_section_display": true,
   "toc_window_display": true
  }
 },
 "nbformat": 4,
 "nbformat_minor": 4
}
